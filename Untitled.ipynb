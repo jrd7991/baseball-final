{
 "cells": [
  {
   "cell_type": "code",
   "execution_count": 2,
   "metadata": {
    "collapsed": true
   },
   "outputs": [],
   "source": [
    "import numpy as np\n",
    "import pandas as pd"
   ]
  },
  {
   "cell_type": "code",
   "execution_count": 7,
   "metadata": {
    "collapsed": false
   },
   "outputs": [
    {
     "name": "stdout",
     "output_type": "stream",
     "text": [
      "{'OBP': 0.439453125}\n"
     ]
    }
   ],
   "source": [
    "mc = pd.read_csv(\"events-2015.csv\",usecols=['BAT_ID','EVENT_TX','GAME_ID'])\n",
    "mc = mc[mc['BAT_ID'] == 'cabrm001'] # you can change the id\n",
    "\n",
    "games15 = pd.read_csv(\"games-2015.csv\")\n",
    "games15.set_index(\"GAME_ID\",inplace = True)\n",
    "\n",
    "mc['DATE'] = mc['GAME_ID'].apply(lambda x: games15.get_value(x,'GAME_DT'))\n",
    "\n",
    "mc.sort_values('DATE',inplace = True)\n",
    "\n",
    "\n",
    "atbatlist = mc['EVENT_TX']\n",
    "\n",
    "vals = {}\n",
    "\n",
    "def outcomefunc(x):\n",
    "    if x[0] == 'W' and ((len(x) == 1) or x[1] != 'P'):\n",
    "        return 'W'\n",
    "    if x[0] == 'I':\n",
    "        return 'I'\n",
    "    if x[0:2] == 'HP':\n",
    "        return 'HBP'\n",
    "    if x[0] == 'D' and ((len(x) == 1) or x[1] != 'G'):\n",
    "        return 'D'\n",
    "    if x[0] == 'H' and ((len(x) == 1) or x[1] != 'P'):\n",
    "        return 'H'\n",
    "    if x[0] == 'S' and ((len(x) == 1) or x[1].isdigit()):\n",
    "        return 'S'\n",
    "    if x[0] == 'T' and ((len(x) == 1) or x[1].isdigit()):\n",
    "        return 'T'\n",
    "    return 'O'\n",
    "\n",
    "outcome = atbatlist.apply(outcomefunc)\n",
    "\n",
    "sfs = len(atbatlist[atbatlist.apply(lambda x: True if ('SF' in x or 'SH' in x) else False)])\n",
    "cinters = len(atbatlist[atbatlist.apply(lambda x: True if ('C' in x) else False)])\n",
    "walks = ((outcome == 'W') | (outcome==\"I\")).sum()\n",
    "iwalks = ((outcome==\"I\")).sum()\n",
    "singles = (outcome == 'S').sum()\n",
    "doubles = (outcome == \"D\").sum()\n",
    "triples = (outcome == \"T\").sum()\n",
    "hrs = (outcome == \"H\").sum()\n",
    "hbps = (outcome == \"HBP\").sum()\n",
    "hits = singles + doubles + triples +  hrs\n",
    "plateapps = len(atbatlist[atbatlist.apply(lambda x: True if ('SB' not in x and 'WP' not in x) else False)])\n",
    "outs = plateapps-walks-hits\n",
    "atbats = plateapps-walks-sfs-hbps-cinters\n",
    "\n",
    "# OBP average \n",
    "\n",
    "obp = (hits+walks+hbps)/(atbats+walks+hbps+sfs)    \n",
    "vals['OBP'] = obp\n",
    "\n",
    "\n",
    "# other stuff here\n",
    "\n",
    "\n",
    "print(vals)\n"
   ]
  },
  {
   "cell_type": "code",
   "execution_count": null,
   "metadata": {
    "collapsed": true
   },
   "outputs": [],
   "source": []
  }
 ],
 "metadata": {
  "kernelspec": {
   "display_name": "Python [py3k]",
   "language": "python",
   "name": "Python [py3k]"
  },
  "language_info": {
   "codemirror_mode": {
    "name": "ipython",
    "version": 3
   },
   "file_extension": ".py",
   "mimetype": "text/x-python",
   "name": "python",
   "nbconvert_exporter": "python",
   "pygments_lexer": "ipython3",
   "version": "3.5.1"
  }
 },
 "nbformat": 4,
 "nbformat_minor": 0
}
