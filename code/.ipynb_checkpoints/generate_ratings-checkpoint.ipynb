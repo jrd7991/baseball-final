{
 "cells": [
  {
   "cell_type": "code",
   "execution_count": 99,
   "metadata": {
    "collapsed": true
   },
   "outputs": [],
   "source": [
    "import numpy as np\n",
    "import pandas as pd\n",
    "\n",
    "from timeit import default_timer as timer"
   ]
  },
  {
   "cell_type": "code",
   "execution_count": 100,
   "metadata": {
    "collapsed": false
   },
   "outputs": [],
   "source": [
    "eventcols = ['GAME_ID','BAT_ID','PIT_ID','EVENT_TX','EVENT_RUNS_CT']\n",
    "events15 = pd.read_csv(\"data/events-2015.csv\",usecols=eventcols)"
   ]
  },
  {
   "cell_type": "code",
   "execution_count": 101,
   "metadata": {
    "collapsed": false
   },
   "outputs": [
    {
     "data": {
      "text/html": [
       "<div>\n",
       "<table border=\"1\" class=\"dataframe\">\n",
       "  <thead>\n",
       "    <tr style=\"text-align: right;\">\n",
       "      <th></th>\n",
       "      <th>GAME_ID</th>\n",
       "      <th>BAT_ID</th>\n",
       "      <th>PIT_ID</th>\n",
       "      <th>EVENT_TX</th>\n",
       "      <th>EVENT_RUNS_CT</th>\n",
       "    </tr>\n",
       "  </thead>\n",
       "  <tbody>\n",
       "    <tr>\n",
       "      <th>0</th>\n",
       "      <td>ANA201504100</td>\n",
       "      <td>escoa003</td>\n",
       "      <td>santh001</td>\n",
       "      <td>63/G</td>\n",
       "      <td>0</td>\n",
       "    </tr>\n",
       "    <tr>\n",
       "      <th>1</th>\n",
       "      <td>ANA201504100</td>\n",
       "      <td>mousm001</td>\n",
       "      <td>santh001</td>\n",
       "      <td>6/P</td>\n",
       "      <td>0</td>\n",
       "    </tr>\n",
       "    <tr>\n",
       "      <th>2</th>\n",
       "      <td>ANA201504100</td>\n",
       "      <td>cainl001</td>\n",
       "      <td>santh001</td>\n",
       "      <td>D8/L+</td>\n",
       "      <td>0</td>\n",
       "    </tr>\n",
       "    <tr>\n",
       "      <th>3</th>\n",
       "      <td>ANA201504100</td>\n",
       "      <td>hosme001</td>\n",
       "      <td>santh001</td>\n",
       "      <td>S9/G.2-H</td>\n",
       "      <td>1</td>\n",
       "    </tr>\n",
       "    <tr>\n",
       "      <th>4</th>\n",
       "      <td>ANA201504100</td>\n",
       "      <td>morak001</td>\n",
       "      <td>santh001</td>\n",
       "      <td>S7/L+.1-2</td>\n",
       "      <td>0</td>\n",
       "    </tr>\n",
       "  </tbody>\n",
       "</table>\n",
       "</div>"
      ],
      "text/plain": [
       "        GAME_ID    BAT_ID    PIT_ID   EVENT_TX  EVENT_RUNS_CT\n",
       "0  ANA201504100  escoa003  santh001       63/G              0\n",
       "1  ANA201504100  mousm001  santh001        6/P              0\n",
       "2  ANA201504100  cainl001  santh001      D8/L+              0\n",
       "3  ANA201504100  hosme001  santh001   S9/G.2-H              1\n",
       "4  ANA201504100  morak001  santh001  S7/L+.1-2              0"
      ]
     },
     "execution_count": 101,
     "metadata": {},
     "output_type": "execute_result"
    }
   ],
   "source": [
    "events15.head() # jupyter automatically prints the last line of each cell"
   ]
  },
  {
   "cell_type": "code",
   "execution_count": 102,
   "metadata": {
    "collapsed": false
   },
   "outputs": [
    {
     "data": {
      "text/html": [
       "<div>\n",
       "<table border=\"1\" class=\"dataframe\">\n",
       "  <thead>\n",
       "    <tr style=\"text-align: right;\">\n",
       "      <th></th>\n",
       "      <th>GAME_ID</th>\n",
       "      <th>BAT_ID</th>\n",
       "      <th>PIT_ID</th>\n",
       "      <th>EVENT_TX</th>\n",
       "      <th>EVENT_RUNS_CT</th>\n",
       "      <th>GAME_DT</th>\n",
       "    </tr>\n",
       "  </thead>\n",
       "  <tbody>\n",
       "    <tr>\n",
       "      <th>0</th>\n",
       "      <td>ANA201504100</td>\n",
       "      <td>escoa003</td>\n",
       "      <td>santh001</td>\n",
       "      <td>63/G</td>\n",
       "      <td>0</td>\n",
       "      <td>20150410</td>\n",
       "    </tr>\n",
       "    <tr>\n",
       "      <th>1</th>\n",
       "      <td>ANA201504100</td>\n",
       "      <td>mousm001</td>\n",
       "      <td>santh001</td>\n",
       "      <td>6/P</td>\n",
       "      <td>0</td>\n",
       "      <td>20150410</td>\n",
       "    </tr>\n",
       "    <tr>\n",
       "      <th>2</th>\n",
       "      <td>ANA201504100</td>\n",
       "      <td>cainl001</td>\n",
       "      <td>santh001</td>\n",
       "      <td>D8/L+</td>\n",
       "      <td>0</td>\n",
       "      <td>20150410</td>\n",
       "    </tr>\n",
       "    <tr>\n",
       "      <th>3</th>\n",
       "      <td>ANA201504100</td>\n",
       "      <td>hosme001</td>\n",
       "      <td>santh001</td>\n",
       "      <td>S9/G.2-H</td>\n",
       "      <td>1</td>\n",
       "      <td>20150410</td>\n",
       "    </tr>\n",
       "    <tr>\n",
       "      <th>4</th>\n",
       "      <td>ANA201504100</td>\n",
       "      <td>morak001</td>\n",
       "      <td>santh001</td>\n",
       "      <td>S7/L+.1-2</td>\n",
       "      <td>0</td>\n",
       "      <td>20150410</td>\n",
       "    </tr>\n",
       "    <tr>\n",
       "      <th>5</th>\n",
       "      <td>ANA201504100</td>\n",
       "      <td>gorda001</td>\n",
       "      <td>santh001</td>\n",
       "      <td>6/P</td>\n",
       "      <td>0</td>\n",
       "      <td>20150410</td>\n",
       "    </tr>\n",
       "    <tr>\n",
       "      <th>6</th>\n",
       "      <td>ANA201504100</td>\n",
       "      <td>calhk001</td>\n",
       "      <td>vargj001</td>\n",
       "      <td>63/G</td>\n",
       "      <td>0</td>\n",
       "      <td>20150410</td>\n",
       "    </tr>\n",
       "    <tr>\n",
       "      <th>7</th>\n",
       "      <td>ANA201504100</td>\n",
       "      <td>troum001</td>\n",
       "      <td>vargj001</td>\n",
       "      <td>13/G</td>\n",
       "      <td>0</td>\n",
       "      <td>20150410</td>\n",
       "    </tr>\n",
       "    <tr>\n",
       "      <th>8</th>\n",
       "      <td>ANA201504100</td>\n",
       "      <td>pujoa001</td>\n",
       "      <td>vargj001</td>\n",
       "      <td>3/P3F</td>\n",
       "      <td>0</td>\n",
       "      <td>20150410</td>\n",
       "    </tr>\n",
       "    <tr>\n",
       "      <th>9</th>\n",
       "      <td>ANA201504100</td>\n",
       "      <td>riosa002</td>\n",
       "      <td>santh001</td>\n",
       "      <td>7/L+</td>\n",
       "      <td>0</td>\n",
       "      <td>20150410</td>\n",
       "    </tr>\n",
       "  </tbody>\n",
       "</table>\n",
       "</div>"
      ],
      "text/plain": [
       "        GAME_ID    BAT_ID    PIT_ID   EVENT_TX  EVENT_RUNS_CT   GAME_DT\n",
       "0  ANA201504100  escoa003  santh001       63/G              0  20150410\n",
       "1  ANA201504100  mousm001  santh001        6/P              0  20150410\n",
       "2  ANA201504100  cainl001  santh001      D8/L+              0  20150410\n",
       "3  ANA201504100  hosme001  santh001   S9/G.2-H              1  20150410\n",
       "4  ANA201504100  morak001  santh001  S7/L+.1-2              0  20150410\n",
       "5  ANA201504100  gorda001  santh001        6/P              0  20150410\n",
       "6  ANA201504100  calhk001  vargj001       63/G              0  20150410\n",
       "7  ANA201504100  troum001  vargj001       13/G              0  20150410\n",
       "8  ANA201504100  pujoa001  vargj001      3/P3F              0  20150410\n",
       "9  ANA201504100  riosa002  santh001       7/L+              0  20150410"
      ]
     },
     "execution_count": 102,
     "metadata": {},
     "output_type": "execute_result"
    }
   ],
   "source": [
    "# date mapping example\n",
    "\n",
    "gamecols = ['GAME_ID','GAME_DT']\n",
    "games15 = pd.read_csv(\"data/games-2015.csv\",usecols = gamecols)\n",
    "\n",
    "games15.set_index('GAME_ID',inplace = True)\n",
    "\n",
    "events15['GAME_DT'] = events15['GAME_ID'].apply(lambda x: games15.get_value(x,'GAME_DT'))\n",
    "\n",
    "\n",
    "events15.head(10)"
   ]
  },
  {
   "cell_type": "code",
   "execution_count": 103,
   "metadata": {
    "collapsed": false
   },
   "outputs": [],
   "source": []
  },
  {
   "cell_type": "code",
   "execution_count": null,
   "metadata": {
    "collapsed": true
   },
   "outputs": [],
   "source": []
  },
  {
   "cell_type": "code",
   "execution_count": null,
   "metadata": {
    "collapsed": false
   },
   "outputs": [],
   "source": []
  },
  {
   "cell_type": "code",
   "execution_count": null,
   "metadata": {
    "collapsed": false
   },
   "outputs": [],
   "source": []
  },
  {
   "cell_type": "code",
   "execution_count": null,
   "metadata": {
    "collapsed": false
   },
   "outputs": [],
   "source": []
  },
  {
   "cell_type": "code",
   "execution_count": null,
   "metadata": {
    "collapsed": true
   },
   "outputs": [],
   "source": []
  },
  {
   "cell_type": "code",
   "execution_count": null,
   "metadata": {
    "collapsed": true
   },
   "outputs": [],
   "source": []
  }
 ],
 "metadata": {
  "anaconda-cloud": {},
  "kernelspec": {
   "display_name": "Python [py3k]",
   "language": "python",
   "name": "Python [py3k]"
  },
  "language_info": {
   "codemirror_mode": {
    "name": "ipython",
    "version": 3
   },
   "file_extension": ".py",
   "mimetype": "text/x-python",
   "name": "python",
   "nbconvert_exporter": "python",
   "pygments_lexer": "ipython3",
   "version": "3.5.1"
  }
 },
 "nbformat": 4,
 "nbformat_minor": 0
}
