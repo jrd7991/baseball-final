{
 "cells": [
  {
   "cell_type": "code",
   "execution_count": null,
   "metadata": {
    "collapsed": true
   },
   "outputs": [],
   "source": [
    "import numpy as np\n",
    "import pandas as pd"
   ]
  },
  {
   "cell_type": "code",
   "execution_count": null,
   "metadata": {
    "collapsed": false
   },
   "outputs": [],
   "source": [
    "eventcols = ['GAME_ID','BAT_ID','PIT_ID','EVENT_TX','EVENT_RUNS_CT']\n",
    "events15 = pd.read_csv(\"data/events-2015.csv\",usecols=eventcols)"
   ]
  },
  {
   "cell_type": "code",
   "execution_count": null,
   "metadata": {
    "collapsed": false
   },
   "outputs": [],
   "source": [
    "events15.head() # jupyter automatically prints the last line of each cell"
   ]
  },
  {
   "cell_type": "code",
   "execution_count": null,
   "metadata": {
    "collapsed": false
   },
   "outputs": [],
   "source": [
    "# date mapping example\n",
    "\n",
    "gamecols = ['GAME_ID','GAME_DT']\n",
    "games15 = pd.read_csv(\"data/games-2015.csv\",usecols = gamecols)\n",
    "games15.set_index('GAME_ID',inplace = True)\n",
    "\n",
    "\n",
    "events15['GAME_DT'] = events15['GAME_ID'].apply(lambda x: games15.get_value(x,'GAME_DT'))\n",
    "events15.sort_values('GAME_DT',inplace = True)\n",
    "\n",
    "events15.head(10)"
   ]
  },
  {
   "cell_type": "code",
   "execution_count": null,
   "metadata": {
    "collapsed": true
   },
   "outputs": [],
   "source": []
  }
 ],
 "metadata": {
  "anaconda-cloud": {},
  "kernelspec": {
   "display_name": "Python [py3k]",
   "language": "python",
   "name": "Python [py3k]"
  },
  "language_info": {
   "codemirror_mode": {
    "name": "ipython",
    "version": 3
   },
   "file_extension": ".py",
   "mimetype": "text/x-python",
   "name": "python",
   "nbconvert_exporter": "python",
   "pygments_lexer": "ipython3",
   "version": "3.5.1"
  }
 },
 "nbformat": 4,
 "nbformat_minor": 0
}
