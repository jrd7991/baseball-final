{
 "cells": [
  {
   "cell_type": "code",
   "execution_count": 2,
   "metadata": {
    "collapsed": true
   },
   "outputs": [],
   "source": [
    "import numpy as np\n",
    "import pandas as pd"
   ]
  },
  {
   "cell_type": "code",
   "execution_count": 31,
   "metadata": {
    "collapsed": false
   },
   "outputs": [
    {
     "name": "stdout",
     "output_type": "stream",
     "text": [
      "{'BA': 0.33720930232558138, 'SLG': 0.53255813953488373, 'OBP': 0.439453125, 'wOBA': 0.41648289738430588}\n"
     ]
    }
   ],
   "source": [
    "atbatlist = pd.Series.from_csv(\"atbatlist.csv\")\n",
    "\n",
    "# init empty dictionary\n",
    "\n",
    "vals = {}\n",
    "\n",
    "# function that determines what \"type\" of event from the string \n",
    "# sacs are considered outs here\n",
    "\n",
    "def outcomefunc(x):\n",
    "    if (isinstance(x,pd.Series)): return 'NA' #to fix weird bug\n",
    "    if x[0] == 'W' and ((len(x) == 1) or x[1] != 'P'):\n",
    "        return 'W'\n",
    "    if x[0] == 'I':\n",
    "        return 'I'\n",
    "    if x[0:2] == 'HP':\n",
    "        return 'HBP'\n",
    "    if x[0] == 'D' and ((len(x) == 1) or x[1] != 'G'):\n",
    "        return 'D'\n",
    "    if x[0] == 'H' and ((len(x) == 1) or x[1] != 'P'):\n",
    "        return 'H'\n",
    "    if x[0] == 'S' and ((len(x) == 1) or x[1].isdigit()):\n",
    "        return 'S'\n",
    "    if x[0] == 'T' and ((len(x) == 1) or x[1].isdigit()):\n",
    "        return 'T'\n",
    "    if ('SB' not in x and 'WP' not in x):\n",
    "        return 'O'\n",
    "    return 'NA'\n",
    "\n",
    "# outcome is a list of all the types\n",
    "\n",
    "outcome = atbatlist.apply(outcomefunc)\n",
    "\n",
    "# sacs and catcher interference\n",
    "\n",
    "sacs = len(atbatlist[atbatlist.apply(lambda x: True if ('SF' in x or 'SH' in x) else False)])\n",
    "cinters = len(atbatlist[atbatlist.apply(lambda x: True if ('C' in x) else False)])\n",
    "\n",
    "\n",
    "walks = ((outcome == 'W') | (outcome==\"I\")).sum()\n",
    "iwalks = ((outcome==\"I\")).sum()\n",
    "uwalks = ((outcome==\"W\")).sum()\n",
    "singles = (outcome == 'S').sum()\n",
    "doubles = (outcome == \"D\").sum()\n",
    "triples = (outcome == \"T\").sum()\n",
    "hrs = (outcome == \"H\").sum()\n",
    "hbps = (outcome == \"HBP\").sum()\n",
    "hits = singles + doubles + triples +  hrs\n",
    "plateapps = len(atbatlist[atbatlist.apply(lambda x: True if ('SB' not in x and 'WP' not in x) else False)])\n",
    "outs = plateapps-walks-hits\n",
    "atbats = plateapps-walks-sacs-hbps-cinters\n",
    "\n",
    "# OBP average \n",
    "\n",
    "obp = (hits+walks+hbps)/(atbats+walks+hbps+sacs)    \n",
    "vals['OBP'] = obp\n",
    "\n",
    "# Batting average\n",
    "\n",
    "ba = (hits)/atbats\n",
    "vals['BA'] = ba\n",
    "\n",
    "# SLG\n",
    "\n",
    "slg = (singles + 2 * doubles + 3 * triples + 4*hrs)/atbats\n",
    "vals['SLG'] = slg\n",
    "\n",
    "# wOBA\n",
    "\n",
    "woba = (.690*uwalks + 0.722*hbps + 0.888*singles + 1.271*doubles + 1.616*triples +\n",
    "2.101*hrs) / (atbats + walks - iwalks + sacs + hbps)\n",
    "vals['wOBA'] = woba\n",
    "\n",
    "\n",
    "# other stuff will go here:\n",
    "\n",
    "\n",
    "\n",
    "\n",
    "\n",
    "print(vals)\n"
   ]
  },
  {
   "cell_type": "code",
   "execution_count": null,
   "metadata": {
    "collapsed": true
   },
   "outputs": [],
   "source": []
  }
 ],
 "metadata": {
  "anaconda-cloud": {},
  "kernelspec": {
   "display_name": "Python [py3k]",
   "language": "python",
   "name": "Python [py3k]"
  },
  "language_info": {
   "codemirror_mode": {
    "name": "ipython",
    "version": 3
   },
   "file_extension": ".py",
   "mimetype": "text/x-python",
   "name": "python",
   "nbconvert_exporter": "python",
   "pygments_lexer": "ipython3",
   "version": "3.5.1"
  }
 },
 "nbformat": 4,
 "nbformat_minor": 0
}
