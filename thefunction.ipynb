{
 "cells": [
  {
   "cell_type": "code",
   "execution_count": 10,
   "metadata": {
    "collapsed": true
   },
   "outputs": [],
   "source": [
    "import numpy as np\n",
    "import pandas as pd"
   ]
  },
  {
   "cell_type": "code",
   "execution_count": 15,
   "metadata": {
    "collapsed": false
   },
   "outputs": [
    {
     "name": "stdout",
     "output_type": "stream",
     "text": [
      "Traceback (most recent call last):\n",
      "  File \"/Users/jordandarefsky/anaconda/envs/py3k/lib/python3.5/site-packages/IPython/core/interactiveshell.py\", line 2885, in run_code\n",
      "    exec(code_obj, self.user_global_ns, self.user_ns)\n",
      "  File \"<ipython-input-15-5351de765a27>\", line 3, in <module>\n",
      "    mc = pd.read_csv(\"events-2015.csv\",usecols=['BAT_ID','EVENT_TX','GAME_ID'])\n",
      "  File \"/Users/jordandarefsky/anaconda/envs/py3k/lib/python3.5/site-packages/pandas/io/parsers.py\", line 562, in parser_f\n",
      "    return _read(filepath_or_buffer, kwds)\n",
      "  File \"/Users/jordandarefsky/anaconda/envs/py3k/lib/python3.5/site-packages/pandas/io/parsers.py\", line 315, in _read\n",
      "    parser = TextFileReader(filepath_or_buffer, **kwds)\n",
      "  File \"/Users/jordandarefsky/anaconda/envs/py3k/lib/python3.5/site-packages/pandas/io/parsers.py\", line 645, in __init__\n",
      "    self._make_engine(self.engine)\n",
      "  File \"/Users/jordandarefsky/anaconda/envs/py3k/lib/python3.5/site-packages/pandas/io/parsers.py\", line 799, in _make_engine\n",
      "    self._engine = CParserWrapper(self.f, **self.options)\n",
      "  File \"/Users/jordandarefsky/anaconda/envs/py3k/lib/python3.5/site-packages/pandas/io/parsers.py\", line 1213, in __init__\n",
      "    self._reader = _parser.TextReader(src, **kwds)\n",
      "  File \"pandas/parser.pyx\", line 358, in pandas.parser.TextReader.__cinit__ (pandas/parser.c:3427)\n",
      "  File \"pandas/parser.pyx\", line 628, in pandas.parser.TextReader._setup_parser_source (pandas/parser.c:6861)\n",
      "OSError: File b'events-2015.csv' does not exist\n",
      "\n",
      "During handling of the above exception, another exception occurred:\n",
      "\n",
      "Traceback (most recent call last):\n",
      "  File \"/Users/jordandarefsky/anaconda/envs/py3k/lib/python3.5/site-packages/IPython/core/interactiveshell.py\", line 1827, in showtraceback\n",
      "    stb = value._render_traceback_()\n",
      "AttributeError: 'OSError' object has no attribute '_render_traceback_'\n",
      "\n",
      "During handling of the above exception, another exception occurred:\n",
      "\n",
      "Traceback (most recent call last):\n",
      "  File \"/Users/jordandarefsky/anaconda/envs/py3k/lib/python3.5/site-packages/IPython/core/ultratb.py\", line 1120, in get_records\n",
      "    return _fixed_getinnerframes(etb, number_of_lines_of_context, tb_offset)\n",
      "  File \"/Users/jordandarefsky/anaconda/envs/py3k/lib/python3.5/site-packages/IPython/core/ultratb.py\", line 301, in wrapped\n",
      "    return f(*args, **kwargs)\n",
      "  File \"/Users/jordandarefsky/anaconda/envs/py3k/lib/python3.5/site-packages/IPython/core/ultratb.py\", line 346, in _fixed_getinnerframes\n",
      "    records = fix_frame_records_filenames(inspect.getinnerframes(etb, context))\n",
      "  File \"/Users/jordandarefsky/anaconda/envs/py3k/lib/python3.5/inspect.py\", line 1453, in getinnerframes\n",
      "    frameinfo = (tb.tb_frame,) + getframeinfo(tb, context)\n",
      "  File \"/Users/jordandarefsky/anaconda/envs/py3k/lib/python3.5/inspect.py\", line 1410, in getframeinfo\n",
      "    filename = getsourcefile(frame) or getfile(frame)\n",
      "  File \"/Users/jordandarefsky/anaconda/envs/py3k/lib/python3.5/inspect.py\", line 672, in getsourcefile\n",
      "    if getattr(getmodule(object, filename), '__loader__', None) is not None:\n",
      "  File \"/Users/jordandarefsky/anaconda/envs/py3k/lib/python3.5/inspect.py\", line 701, in getmodule\n",
      "    file = getabsfile(object, _filename)\n",
      "  File \"/Users/jordandarefsky/anaconda/envs/py3k/lib/python3.5/inspect.py\", line 685, in getabsfile\n",
      "    return os.path.normcase(os.path.abspath(_filename))\n",
      "  File \"/Users/jordandarefsky/anaconda/envs/py3k/lib/python3.5/posixpath.py\", line 361, in abspath\n",
      "    cwd = os.getcwd()\n",
      "FileNotFoundError: [Errno 2] No such file or directory\n"
     ]
    },
    {
     "name": "stderr",
     "output_type": "stream",
     "text": [
      "ERROR: Internal Python error in the inspect module.\n",
      "Below is the traceback from this internal error.\n",
      "\n",
      "\n",
      "Unfortunately, your original traceback can not be constructed.\n",
      "\n"
     ]
    },
    {
     "ename": "OSError",
     "evalue": "File b'events-2015.csv' does not exist",
     "output_type": "error",
     "traceback": [
      "\u001b[0;31m---------------------------------------------------------------------------\u001b[0m"
     ]
    }
   ],
   "source": [
    "# import at bat data from miguel cabrera (can be changed)\n",
    "\n",
    "mc = pd.read_csv(\"events-2015.csv\",usecols=['BAT_ID','EVENT_TX','GAME_ID'])\n",
    "mc = mc[mc['BAT_ID'] == 'cabrm001'] # you can change the id\n",
    "\n",
    "# import game data\n",
    "\n",
    "games15 = pd.read_csv(\"games-2015.csv\")\n",
    "games15.set_index(\"GAME_ID\",inplace = True)\n",
    "\n",
    "# sort the at bat data by date\n",
    "\n",
    "mc['DATE'] = mc['GAME_ID'].apply(lambda x: games15.get_value(x,'GAME_DT'))\n",
    "\n",
    "mc.sort_values('DATE',inplace = True)\n",
    "\n",
    "# make a list of just the \"events\"\n",
    "\n",
    "atbatlist = mc['EVENT_TX']\n",
    "\n",
    "# init empty dictionary\n",
    "\n",
    "vals = {}\n",
    "\n",
    "# function that determines what \"type\" of event from the string \n",
    "# sacs are considered outs here\n",
    "\n",
    "def outcomefunc(x):\n",
    "    if x[0] == 'W' and ((len(x) == 1) or x[1] != 'P'):\n",
    "        return 'W'\n",
    "    if x[0] == 'I':\n",
    "        return 'I'\n",
    "    if x[0:2] == 'HP':\n",
    "        return 'HBP'\n",
    "    if x[0] == 'D' and ((len(x) == 1) or x[1] != 'G'):\n",
    "        return 'D'\n",
    "    if x[0] == 'H' and ((len(x) == 1) or x[1] != 'P'):\n",
    "        return 'H'\n",
    "    if x[0] == 'S' and ((len(x) == 1) or x[1].isdigit()):\n",
    "        return 'S'\n",
    "    if x[0] == 'T' and ((len(x) == 1) or x[1].isdigit()):\n",
    "        return 'T'\n",
    "    if ('SB' not in x and 'WP' not in x):\n",
    "        return 'O'\n",
    "    return 'NA'\n",
    "\n",
    "# outcome is a list of all the types\n",
    "\n",
    "outcome = atbatlist.apply(outcomefunc)\n",
    "\n",
    "# sacs and catcher interference\n",
    "\n",
    "sacs = len(atbatlist[atbatlist.apply(lambda x: True if ('SF' in x or 'SH' in x) else False)])\n",
    "cinters = len(atbatlist[atbatlist.apply(lambda x: True if ('C' in x) else False)])\n",
    "\n",
    "\n",
    "walks = ((outcome == 'W') | (outcome==\"I\")).sum()\n",
    "iwalks = ((outcome==\"I\")).sum()\n",
    "singles = (outcome == 'S').sum()\n",
    "doubles = (outcome == \"D\").sum()\n",
    "triples = (outcome == \"T\").sum()\n",
    "hrs = (outcome == \"H\").sum()\n",
    "hbps = (outcome == \"HBP\").sum()\n",
    "hits = singles + doubles + triples +  hrs\n",
    "plateapps = len(atbatlist[atbatlist.apply(lambda x: True if ('SB' not in x and 'WP' not in x) else False)])\n",
    "outs = plateapps-walks-hits\n",
    "atbats = plateapps-walks-sfs-hbps-cinters\n",
    "\n",
    "# OBP average \n",
    "\n",
    "obp = (hits+walks+hbps)/(atbats+walks+hbps+sfs)    \n",
    "vals['OBP'] = obp\n",
    "\n",
    "\n",
    "# other stuff will go here:\n",
    "\n",
    "\n",
    "\n",
    "\n",
    "\n",
    "print(vals)\n"
   ]
  },
  {
   "cell_type": "code",
   "execution_count": null,
   "metadata": {
    "collapsed": true
   },
   "outputs": [],
   "source": []
  }
 ],
 "metadata": {
  "kernelspec": {
   "display_name": "Python [py3k]",
   "language": "python",
   "name": "Python [py3k]"
  },
  "language_info": {
   "codemirror_mode": {
    "name": "ipython",
    "version": 3
   },
   "file_extension": ".py",
   "mimetype": "text/x-python",
   "name": "python",
   "nbconvert_exporter": "python",
   "pygments_lexer": "ipython3",
   "version": "3.5.1"
  }
 },
 "nbformat": 4,
 "nbformat_minor": 0
}
